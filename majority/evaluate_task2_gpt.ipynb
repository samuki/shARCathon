{
 "cells": [
  {
   "cell_type": "code",
   "execution_count": 2,
   "metadata": {},
   "outputs": [],
   "source": [
    "import os\n",
    "import json"
   ]
  },
  {
   "cell_type": "markdown",
   "metadata": {},
   "source": [
    "Evaluation for standard query"
   ]
  },
  {
   "cell_type": "code",
   "execution_count": 39,
   "metadata": {},
   "outputs": [
    {
     "name": "stdout",
     "output_type": "stream",
     "text": [
      "0.45614035087719296\n"
     ]
    }
   ],
   "source": [
    "task2_files = os.listdir(\"task2_gpt3\")\n",
    "task2_files = [os.path.join(\"task2_gpt3\", file) for file in task2_files if os.path.splitext(file)[1] == \".json\"]\n",
    "\n",
    "yes_answers = []\n",
    "\n",
    "for task2_file in task2_files:\n",
    "    with open(task2_file, \"r\") as f:\n",
    "        data = json.loads(f.read())\n",
    "        yes_answers.append(1 if data[\"yes_answer\"] else 0)\n",
    "\n",
    "print(sum(yes_answers) / len(yes_answers))"
   ]
  },
  {
   "cell_type": "markdown",
   "metadata": {},
   "source": [
    "Evaluation for majority voting"
   ]
  },
  {
   "cell_type": "code",
   "execution_count": 38,
   "metadata": {},
   "outputs": [
    {
     "name": "stdout",
     "output_type": "stream",
     "text": [
      "0.5964912280701754\n"
     ]
    }
   ],
   "source": [
    "task2_files = os.listdir(\"task2_majority\")\n",
    "task2_files = [os.path.join(\"task2_majority\", file) for file in task2_files if os.path.splitext(file)[1] == \".json\"]\n",
    "\n",
    "yes_answers = []\n",
    "\n",
    "for task2_file in task2_files:\n",
    "    with open(task2_file, \"r\") as f:\n",
    "        data = json.loads(f.read())\n",
    "        entries = []\n",
    "        for entry in data: \n",
    "            entries.append(1 if entry[\"yes_answer\"] else 0)\n",
    "            #yes_answers.append(1 if data[\"yes_answer\"] else 0)\n",
    "\n",
    "        if sum(entries) / len(entries) >= 0.5:\n",
    "            yes_answers.append(1)\n",
    "        else:\n",
    "            yes_answers.append(0)\n",
    "\n",
    "print(sum(yes_answers) / len(yes_answers))"
   ]
  },
  {
   "cell_type": "code",
   "execution_count": 41,
   "metadata": {},
   "outputs": [
    {
     "name": "stdout",
     "output_type": "stream",
     "text": [
      "0.7719298245614035\n"
     ]
    }
   ],
   "source": [
    "task2_files = os.listdir(\"task2_false\")\n",
    "task2_files = [os.path.join(\"task2_false\", file) for file in task2_files if os.path.splitext(file)[1] == \".json\"]\n",
    "\n",
    "no_answers = []\n",
    "\n",
    "for task2_file in task2_files:\n",
    "    with open(task2_file, \"r\") as f:\n",
    "        data = json.loads(f.read())\n",
    "        no_answers.append(1 if data[\"no_answer\"] else 0)\n",
    "\n",
    "print(sum(no_answers) / len(no_answers))"
   ]
  },
  {
   "cell_type": "code",
   "execution_count": 42,
   "metadata": {},
   "outputs": [
    {
     "name": "stdout",
     "output_type": "stream",
     "text": [
      "0.8070175438596491\n"
     ]
    }
   ],
   "source": [
    "task2_files = os.listdir(\"task2_false_majority\")\n",
    "task2_files = [os.path.join(\"task2_false_majority\", file) for file in task2_files if os.path.splitext(file)[1] == \".json\"]\n",
    "\n",
    "no_answers = []\n",
    "\n",
    "for task2_file in task2_files:\n",
    "    with open(task2_file, \"r\") as f:\n",
    "        data = json.loads(f.read())\n",
    "        entries = []\n",
    "        for entry in data: \n",
    "            entries.append(1 if entry[\"no_answer\"] else 0)\n",
    "            #yes_answers.append(1 if data[\"yes_answer\"] else 0)\n",
    "\n",
    "        if sum(entries) / len(entries) >= 0.5:\n",
    "            no_answers.append(1)\n",
    "        else:\n",
    "            no_answers.append(0)\n",
    "\n",
    "print(sum(no_answers) / len(no_answers))"
   ]
  }
 ],
 "metadata": {
  "kernelspec": {
   "display_name": "base",
   "language": "python",
   "name": "python3"
  },
  "language_info": {
   "codemirror_mode": {
    "name": "ipython",
    "version": 3
   },
   "file_extension": ".py",
   "mimetype": "text/x-python",
   "name": "python",
   "nbconvert_exporter": "python",
   "pygments_lexer": "ipython3",
   "version": "3.8.16"
  },
  "orig_nbformat": 4
 },
 "nbformat": 4,
 "nbformat_minor": 2
}
